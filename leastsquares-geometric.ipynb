{
 "metadata": {
  "name": "",
  "signature": "sha256:40ec1f38ea00d1a388c0c741a1c82fa6cf4ab8af4502d011ee95eb1f00ab9de2"
 },
 "nbformat": 3,
 "nbformat_minor": 0,
 "worksheets": [
  {
   "cells": [
    {
     "cell_type": "code",
     "collapsed": false,
     "input": [
      "from __future__ import division\n",
      "from sympy import *\n",
      "from sympy.matrices import *\n",
      "init_printing()\n",
      "%qtconsole"
     ],
     "language": "python",
     "metadata": {},
     "outputs": [],
     "prompt_number": 25
    },
    {
     "cell_type": "code",
     "collapsed": false,
     "input": [
      "n = symbols('n')\n",
      "Y = MatrixSymbol('Y',n,1)\n",
      "X = MatrixSymbol('X',n,2)\n",
      "B = MatrixSymbol('beta',2,1)\n",
      "X*B"
     ],
     "language": "python",
     "metadata": {},
     "outputs": [
      {
       "latex": [
        "$$X \\beta$$"
       ],
       "metadata": {},
       "output_type": "pyout",
       "png": "[encoded data removed]",
       "prompt_number": 12,
       "text": [
        "X\u22c5\u03b2"
       ]
      }
     ],
     "prompt_number": 12
    },
    {
     "cell_type": "code",
     "collapsed": false,
     "input": [
      "# solve for Y = X*B + E\n",
      "# what this really means is find a B that gets the columns of X to be as close to Y\n",
      "# as is possible. And at that closest point, w = Y - X*B will be \n",
      "# orthogonal to the column space of X\n",
      "X_t = X.transpose()\n",
      "X_t.shape"
     ],
     "language": "python",
     "metadata": {},
     "outputs": [
      {
       "latex": [
        "$$\\left ( 2, \\quad n\\right )$$"
       ],
       "metadata": {},
       "output_type": "pyout",
       "png": "[encoded data removed]",
       "prompt_number": 95,
       "text": [
        "(2, n)"
       ]
      }
     ],
     "prompt_number": 95
    },
    {
     "cell_type": "code",
     "collapsed": false,
     "input": [
      "eqn = X_t*(Y - X*B)\n",
      "eqn,eqn.shape"
     ],
     "language": "python",
     "metadata": {},
     "outputs": [
      {
       "latex": [
        "$$\\left ( X^T \\left(-1 X \\beta + Y\\right), \\quad \\left ( 2, \\quad 1\\right )\\right )$$"
       ],
       "metadata": {},
       "output_type": "pyout",
       "png": "[encoded data removed]",
       "prompt_number": 96,
       "text": [
        "\u239b T                   \u239e\n",
        "\u239dX \u22c5(-X\u22c5\u03b2 + Y), (2, 1)\u23a0"
       ]
      }
     ],
     "prompt_number": 96
    },
    {
     "cell_type": "code",
     "collapsed": false,
     "input": [
      "# expanding\n",
      "# Xt*X*B = Xt*Y\n",
      "lhs = X_t*X*B\n",
      "rhs = X_t*Y\n",
      "lhs,rhs"
     ],
     "language": "python",
     "metadata": {},
     "outputs": [
      {
       "latex": [
        "$$\\left ( X^T X \\beta, \\quad X^T Y\\right )$$"
       ],
       "metadata": {},
       "output_type": "pyout",
       "png": "[encoded data removed]",
       "prompt_number": 98,
       "text": [
        "\u239b T       T  \u239e\n",
        "\u239dX \u22c5X\u22c5\u03b2, X \u22c5Y\u23a0"
       ]
      }
     ],
     "prompt_number": 98
    },
    {
     "cell_type": "code",
     "collapsed": false,
     "input": [
      "lhs2 = (X_t*X).inverse()*lhs\n",
      "lhs3 = B\n",
      "lhs2, lhs3 # we can assume this is invertible and simplify to just B"
     ],
     "language": "python",
     "metadata": {},
     "outputs": [
      {
       "latex": [
        "$$\\left ( \\left(X^T X\\right)^{-1} X^T X \\beta, \\quad \\beta\\right )$$"
       ],
       "metadata": {},
       "output_type": "pyout",
       "png": "[encoded data removed]",
       "prompt_number": 104,
       "text": [
        "\u239b      -1          \u239e\n",
        "\u239c\u239b T  \u239e    T       \u239f\n",
        "\u239d\u239dX \u22c5X\u23a0  \u22c5X \u22c5X\u22c5\u03b2, \u03b2\u23a0"
       ]
      }
     ],
     "prompt_number": 104
    },
    {
     "cell_type": "code",
     "collapsed": false,
     "input": [
      "rhs2 = (X_t*X).inverse()*rhs\n",
      "rhs2,rhs2.shape"
     ],
     "language": "python",
     "metadata": {},
     "outputs": [
      {
       "latex": [
        "$$\\left ( \\left(X^T X\\right)^{-1} X^T Y, \\quad \\left ( 2, \\quad 1\\right )\\right )$$"
       ],
       "metadata": {},
       "output_type": "pyout",
       "png": "[encoded data removed]",
       "prompt_number": 106,
       "text": [
        "\u239b      -1             \u239e\n",
        "\u239c\u239b T  \u239e    T          \u239f\n",
        "\u239d\u239dX \u22c5X\u23a0  \u22c5X \u22c5Y, (2, 1)\u23a0"
       ]
      }
     ],
     "prompt_number": 106
    },
    {
     "cell_type": "code",
     "collapsed": false,
     "input": [
      "# note that the shape of this is 2x1, which is what we'd expect: \n",
      "# B0 = B[0,0]\n",
      "# B1 = B[1,0]\n",
      "B_solved = rhs2\n",
      "B_solved, B_solved.shape"
     ],
     "language": "python",
     "metadata": {},
     "outputs": [
      {
       "latex": [
        "$$\\left ( \\left(X^T X\\right)^{-1} X^T Y, \\quad \\left ( 2, \\quad 1\\right )\\right )$$"
       ],
       "metadata": {},
       "output_type": "pyout",
       "png": "[encoded data removed]",
       "prompt_number": 110,
       "text": [
        "\u239b      -1             \u239e\n",
        "\u239c\u239b T  \u239e    T          \u239f\n",
        "\u239d\u239dX \u22c5X\u23a0  \u22c5X \u22c5Y, (2, 1)\u23a0"
       ]
      }
     ],
     "prompt_number": 110
    },
    {
     "cell_type": "code",
     "collapsed": false,
     "input": [],
     "language": "python",
     "metadata": {},
     "outputs": []
    }
   ],
   "metadata": {}
  }
 ]
}