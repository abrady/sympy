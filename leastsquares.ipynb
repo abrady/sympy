{
 "metadata": {
  "name": "",
  "signature": "sha256:c25cce83527bb3fb0a192db5784ec11a38869553025d4bd4383f5779349dec40"
 },
 "nbformat": 3,
 "nbformat_minor": 0,
 "worksheets": [
  {
   "cells": [
    {
     "cell_type": "code",
     "collapsed": false,
     "input": [
      "from __future__ import division\n",
      "from sympy import *\n",
      "init_printing()\n",
      "%qtconsole\n"
     ],
     "language": "python",
     "metadata": {},
     "outputs": [],
     "prompt_number": 1
    },
    {
     "cell_type": "code",
     "collapsed": false,
     "input": [
      "# solve for where least squares intercepts the origin\n",
      "# so mu = Bx minimizes sum[(Yi - Bxi)^2]\n",
      "# Sum[(y[i] - B*x[i])**2]\n",
      "i,j = symbols('i,j',cls=Idx)\n",
      "x = IndexedBase('x')\n",
      "y = IndexedBase('y')\n",
      "a,b,B,B_,i,n = symbols('a,b,B,B_mu,i,n')\n",
      "\n",
      "f0 = (a-b)**2\n",
      "f0"
     ],
     "language": "python",
     "metadata": {},
     "outputs": [
      {
       "latex": [
        "$$\\left(a - b\\right)^{2}$$"
       ],
       "metadata": {},
       "output_type": "pyout",
       "png": "[encoded data removed]",
       "prompt_number": 2,
       "text": [
        "       2\n",
        "(a - b) "
       ]
      }
     ],
     "prompt_number": 2
    },
    {
     "cell_type": "code",
     "collapsed": false,
     "input": [
      "f1 = expand(Sum(f0,(i,0,n))) # Sum(B1**2*x[i]**2, (i, 0, n)) + Sum(-2*B1*x[i]*y[i], (i, 0, n)) + Sum(y[i]**2, (i, 0, n))\n",
      "f1"
     ],
     "language": "python",
     "metadata": {},
     "outputs": [
      {
       "latex": [
        "$$\\sum_{i=0}^{n} a^{2} + \\sum_{i=0}^{n} b^{2} + \\sum_{i=0}^{n} - 2 a b$$"
       ],
       "metadata": {},
       "output_type": "pyout",
       "png": "[encoded data removed]",
       "prompt_number": 3,
       "text": [
        "  n          n          n         \n",
        " ___        ___        ___        \n",
        " \u2572          \u2572          \u2572          \n",
        "  \u2572    2     \u2572    2     \u2572   -2\u22c5a\u22c5b\n",
        "  \u2571   a  +   \u2571   b  +   \u2571         \n",
        " \u2571          \u2571          \u2571          \n",
        " \u203e\u203e\u203e        \u203e\u203e\u203e        \u203e\u203e\u203e        \n",
        "i = 0      i = 0      i = 0       "
       ]
      }
     ],
     "prompt_number": 3
    },
    {
     "cell_type": "code",
     "collapsed": true,
     "input": [
      "f2 = f1.args[2] # middle expression is in arg2 for some reason\n",
      "f2"
     ],
     "language": "python",
     "metadata": {},
     "outputs": [
      {
       "latex": [
        "$$\\sum_{i=0}^{n} - 2 a b$$"
       ],
       "metadata": {},
       "output_type": "pyout",
       "png": "[encoded data removed]",
       "prompt_number": 4,
       "text": [
        "  n         \n",
        " ___        \n",
        " \u2572          \n",
        "  \u2572   -2\u22c5a\u22c5b\n",
        "  \u2571         \n",
        " \u2571          \n",
        " \u203e\u203e\u203e        \n",
        "i = 0       "
       ]
      }
     ],
     "prompt_number": 4
    },
    {
     "cell_type": "code",
     "collapsed": false,
     "input": [
      "f3 = f2.subs([(a,(y[i]-B_*x[i])), (b,(B_*x[i]-B*x[i]))])\n",
      "f3"
     ],
     "language": "python",
     "metadata": {},
     "outputs": [
      {
       "latex": [
        "$$\\sum_{i=0}^{n} - 2 \\left(- B x_{i} + B_{\\mu} x_{i}\\right) \\left(- B_{\\mu} x_{i} + y_{i}\\right)$$"
       ],
       "metadata": {},
       "output_type": "pyout",
       "png": "[encoded data removed]",
       "prompt_number": 5,
       "text": [
        "  n                                             \n",
        " ___                                            \n",
        " \u2572                                              \n",
        "  \u2572   -2\u22c5(-B\u22c5x[i] + B_\u03bc\u22c5x[i])\u22c5(-B_\u03bc\u22c5x[i] + y[i])\n",
        "  \u2571                                             \n",
        " \u2571                                              \n",
        " \u203e\u203e\u203e                                            \n",
        "i = 0                                           "
       ]
      }
     ],
     "prompt_number": 5
    },
    {
     "cell_type": "code",
     "collapsed": false,
     "input": [
      "# we want to know when this is zero\n",
      "f3 = simplify(f3/-2) # -2 isn't important \n",
      "f3 "
     ],
     "language": "python",
     "metadata": {},
     "outputs": [
      {
       "latex": [
        "$$\\sum_{i=0}^{n} \\left(B - B_{\\mu}\\right) \\left(B_{\\mu} x_{i} - y_{i}\\right) x_{i}$$"
       ],
       "metadata": {},
       "output_type": "pyout",
       "png": "[encoded data removed]",
       "prompt_number": 6,
       "text": [
        "  n                                   \n",
        " ___                                  \n",
        " \u2572                                    \n",
        "  \u2572   (B - B_\u03bc)\u22c5(B_\u03bc\u22c5x[i] - y[i])\u22c5x[i]\n",
        "  \u2571                                   \n",
        " \u2571                                    \n",
        " \u203e\u203e\u203e                                  \n",
        "i = 0                                 "
       ]
      }
     ],
     "prompt_number": 6
    },
    {
     "cell_type": "code",
     "collapsed": false,
     "input": [
      "# B and B_ are constant, so factor those out"
     ],
     "language": "python",
     "metadata": {},
     "outputs": [],
     "prompt_number": 58
    },
    {
     "cell_type": "code",
     "collapsed": false,
     "input": [
      "f4 = factor(f3)\n",
      "f4"
     ],
     "language": "python",
     "metadata": {},
     "outputs": [
      {
       "latex": [
        "$$\\left(B - B_{\\mu}\\right) \\sum_{i=0}^{n} \\left(B_{\\mu} x_{i} - y_{i}\\right) x_{i}$$"
       ],
       "metadata": {},
       "output_type": "pyout",
       "png": "[encoded data removed]",
       "prompt_number": 9,
       "text": [
        "            n                         \n",
        "           ___                        \n",
        "           \u2572                          \n",
        "            \u2572   (B_\u03bc\u22c5x[i] - y[i])\u22c5x[i]\n",
        "(B - B_\u03bc)\u22c5  \u2571                         \n",
        "           \u2571                          \n",
        "           \u203e\u203e\u203e                        \n",
        "          i = 0                       "
       ]
      }
     ],
     "prompt_number": 9
    },
    {
     "cell_type": "code",
     "collapsed": false,
     "input": [
      "# throw away that term\n",
      "f5 = f4/(B-B_)\n",
      "f5"
     ],
     "language": "python",
     "metadata": {},
     "outputs": [
      {
       "latex": [
        "$$\\sum_{i=0}^{n} \\left(B_{\\mu} x_{i} - y_{i}\\right) x_{i}$$"
       ],
       "metadata": {},
       "output_type": "pyout",
       "png": "[encoded data removed]",
       "prompt_number": 11,
       "text": [
        "  n                         \n",
        " ___                        \n",
        " \u2572                          \n",
        "  \u2572   (B_\u03bc\u22c5x[i] - y[i])\u22c5x[i]\n",
        "  \u2571                         \n",
        " \u2571                          \n",
        " \u203e\u203e\u203e                        \n",
        "i = 0                       "
       ]
      }
     ],
     "prompt_number": 11
    },
    {
     "cell_type": "code",
     "collapsed": false,
     "input": [
      "f6 = expand(f5)\n",
      "f6"
     ],
     "language": "python",
     "metadata": {},
     "outputs": [
      {
       "latex": [
        "$$\\sum_{i=0}^{n} B_{\\mu} \\left(x_{i}\\right)^{2} + \\sum_{i=0}^{n} - x_{i} y_{i}$$"
       ],
       "metadata": {},
       "output_type": "pyout",
       "png": "[encoded data removed]",
       "prompt_number": 14,
       "text": [
        "  n                 n             \n",
        " ___               ___            \n",
        " \u2572                 \u2572              \n",
        "  \u2572           2     \u2572   -x[i]\u22c5y[i]\n",
        "  \u2571   B_\u03bc\u22c5x[i]  +   \u2571             \n",
        " \u2571                 \u2571              \n",
        " \u203e\u203e\u203e               \u203e\u203e\u203e            \n",
        "i = 0             i = 0           "
       ]
      }
     ],
     "prompt_number": 14
    },
    {
     "cell_type": "code",
     "collapsed": false,
     "input": [
      "f7 = factor(f6.args[0]) + f6.args[1]\n",
      "f8 = f7/f7.args[0].args[1]"
     ],
     "language": "python",
     "metadata": {},
     "outputs": [],
     "prompt_number": 31
    },
    {
     "cell_type": "code",
     "collapsed": false,
     "input": [
      "f9 = simplify(f8)\n",
      "f9"
     ],
     "language": "python",
     "metadata": {},
     "outputs": [
      {
       "latex": [
        "$$B_{\\mu} + \\frac{\\sum_{i=0}^{n} - x_{i} y_{i}}{\\sum_{i=0}^{n} \\left(x_{i}\\right)^{2}}$$"
       ],
       "metadata": {},
       "output_type": "pyout",
       "png": "[encoded data removed]",
       "prompt_number": 33,
       "text": [
        "        n             \n",
        "       ___            \n",
        "       \u2572              \n",
        "        \u2572   -x[i]\u22c5y[i]\n",
        "        \u2571             \n",
        "       \u2571              \n",
        "       \u203e\u203e\u203e            \n",
        "      i = 0           \n",
        "B_\u03bc + \u2500\u2500\u2500\u2500\u2500\u2500\u2500\u2500\u2500\u2500\u2500\u2500\u2500\u2500\u2500\u2500\n",
        "          n           \n",
        "         ___          \n",
        "         \u2572            \n",
        "          \u2572       2   \n",
        "          \u2571   x[i]    \n",
        "         \u2571            \n",
        "         \u203e\u203e\u203e          \n",
        "        i = 0         "
       ]
      }
     ],
     "prompt_number": 33
    },
    {
     "cell_type": "code",
     "collapsed": false,
     "input": [
      "solve(f9)"
     ],
     "language": "python",
     "metadata": {},
     "outputs": [
      {
       "latex": [
        "$$\\left [ \\left \\{ B_{\\mu} : - \\frac{\\sum_{i=0}^{n} - x_{i} y_{i}}{\\sum_{i=0}^{n} \\left(x_{i}\\right)^{2}}\\right \\}\\right ]$$"
       ],
       "metadata": {},
       "output_type": "pyout",
       "png": "[encoded data removed]",
       "prompt_number": 36,
       "text": [
        "\u23a1\u23a7        n              \u23ab\u23a4\n",
        "\u23a2\u23aa       ___             \u23aa\u23a5\n",
        "\u23a2\u23aa       \u2572               \u23aa\u23a5\n",
        "\u23a2\u23aa        \u2572   -x[i]\u22c5y[i] \u23aa\u23a5\n",
        "\u23a2\u23aa     -  \u2571              \u23aa\u23a5\n",
        "\u23a2\u23aa       \u2571               \u23aa\u23a5\n",
        "\u23a2\u23aa       \u203e\u203e\u203e             \u23aa\u23a5\n",
        "\u23a2\u23aa      i = 0            \u23aa\u23a5\n",
        "\u23a2\u23a8B_\u03bc: \u2500\u2500\u2500\u2500\u2500\u2500\u2500\u2500\u2500\u2500\u2500\u2500\u2500\u2500\u2500\u2500\u2500\u2500\u23ac\u23a5\n",
        "\u23a2\u23aa          n            \u23aa\u23a5\n",
        "\u23a2\u23aa         ___           \u23aa\u23a5\n",
        "\u23a2\u23aa         \u2572             \u23aa\u23a5\n",
        "\u23a2\u23aa          \u2572       2    \u23aa\u23a5\n",
        "\u23a2\u23aa          \u2571   x[i]     \u23aa\u23a5\n",
        "\u23a2\u23aa         \u2571             \u23aa\u23a5\n",
        "\u23a2\u23aa         \u203e\u203e\u203e           \u23aa\u23a5\n",
        "\u23a3\u23a9        i = 0          \u23ad\u23a6"
       ]
      }
     ],
     "prompt_number": 36
    },
    {
     "cell_type": "code",
     "collapsed": false,
     "input": [
      "# so (x0*y0+x1*y1+....)/(x0^2+x1^2+...+xn^2)\n",
      "# B_ = x.y/x.x"
     ],
     "language": "python",
     "metadata": {},
     "outputs": []
    }
   ],
   "metadata": {}
  }
 ]
}